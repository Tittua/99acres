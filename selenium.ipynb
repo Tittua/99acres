{
 "cells": [
  {
   "cell_type": "code",
   "execution_count": 4,
   "id": "01af9820",
   "metadata": {},
   "outputs": [],
   "source": [
    "from selenium import webdriver\n",
    "from selenium.webdriver.common.by import By\n",
    "from selenium.webdriver.support.ui import Select\n",
    "import time\n",
    "import pandas as pd\n",
    "#from selenium.webdriver.chrome.service import Service"
   ]
  },
  {
   "cell_type": "code",
   "execution_count": 5,
   "id": "332f5976",
   "metadata": {},
   "outputs": [],
   "source": [
    "#path\n",
    "#ser_obj='path'\n",
    "#driver=webdriver.Chrome(service=ser_obj)\n",
    "\n",
    "website='https://www.99acres.com/'\n",
    "driver=webdriver.Chrome()\n",
    "driver.get(website)\n",
    "driver.maximize_window()\n",
    "#driver.quit()"
   ]
  },
  {
   "cell_type": "code",
   "execution_count": 6,
   "id": "aa38a63f",
   "metadata": {},
   "outputs": [],
   "source": [
    "city=['Bangalore (All)','Pune','Kerala']"
   ]
  },
  {
   "cell_type": "code",
   "execution_count": 7,
   "id": "81a33b30",
   "metadata": {},
   "outputs": [],
   "source": [
    "#Selecting data for a particular city\n",
    "element=driver.find_element(by=By.XPATH, value='//input[@class=\"component__searchInput\"]')\n",
    "#selecting the city \n",
    "element.send_keys(city[0])\n",
    "#setting a waiting time for the drop down to appear\n",
    "time.sleep(1.5)\n",
    "#selecting the first element from the dropdown\n",
    "driver.find_element(By.XPATH,value='//li[@id=\"0\"]').click()\n",
    "#hitting search button\n",
    "driver.find_element(By.XPATH,value='//button[@type=\"submit\" and @variant=\"primaryRegular\" ]').click()"
   ]
  },
  {
   "cell_type": "code",
   "execution_count": 8,
   "id": "949c3855",
   "metadata": {},
   "outputs": [],
   "source": [
    "val=driver.find_elements(By.XPATH,value='//section[@data-hydration-on-demand=\"true\"]')"
   ]
  },
  {
   "cell_type": "code",
   "execution_count": 9,
   "id": "d255e37e",
   "metadata": {},
   "outputs": [],
   "source": [
    "building_name=[]\n",
    "price=[]\n",
    "region=[]\n",
    "location=[]\n",
    "building_type=[]"
   ]
  },
  {
   "cell_type": "markdown",
   "id": "be8d352d",
   "metadata": {},
   "source": [
    "# Scrapping the data\n"
   ]
  },
  {
   "cell_type": "code",
   "execution_count": 10,
   "id": "81b3bd77",
   "metadata": {},
   "outputs": [],
   "source": [
    "   for i in range(15): # adjust integer value for need\n",
    "       # you can change right side number for scroll convenience or destination \n",
    "       driver.execute_script(\"window.scrollBy(0, 4000)\")\n",
    "       # you can change time integer to float or remove\n",
    "       time.sleep(2)"
   ]
  },
  {
   "cell_type": "code",
   "execution_count": 8,
   "id": "f0396036",
   "metadata": {},
   "outputs": [],
   "source": [
    "res=val[6].find_elements(By.XPATH,value='//div[@style=\"height: 82%;\"]')"
   ]
  },
  {
   "cell_type": "code",
   "execution_count": 9,
   "id": "88465eb9",
   "metadata": {},
   "outputs": [],
   "source": [
    "#extracting residence price and name\n",
    "res_name=res[1].find_elements(By.XPATH,value='//*[@class=\"projectTuple__projectName  projectTuple__pdWrap20 ellipsis\"]')\n",
    "res_price=res[1].find_elements(By.XPATH,value='//span[@class=\"list_header_bold configurationCards__srpPriceHeading configurationCards__configurationCardsHeading\"]')\n",
    "res_loc=res[1].find_elements(By.XPATH,value='//h2[@class=\"projectTuple__subHeadingWrap body_med ellipsis\"]')"
   ]
  },
  {
   "cell_type": "code",
   "execution_count": 10,
   "id": "3ebc6464",
   "metadata": {},
   "outputs": [],
   "source": [
    "for x,y,z in zip(res_name,res_price,res_loc):\n",
    "    building_name.append(x.text)\n",
    "    price.append(y.text)\n",
    "    location.append(z.text)"
   ]
  },
  {
   "cell_type": "code",
   "execution_count": 11,
   "id": "65d5a397",
   "metadata": {},
   "outputs": [],
   "source": [
    "data={'Residence_name':building_name,'Price':price,'Location_details':location}\n",
    "df=pd.DataFrame(data)"
   ]
  },
  {
   "cell_type": "code",
   "execution_count": 12,
   "id": "15f004f5",
   "metadata": {},
   "outputs": [],
   "source": [
    "for i in range(len(res_name)):\n",
    "    region.append(df['Location_details'][i].split()[-2]+' '+df['Location_details'][i].split()[-1])\n",
    "df['region']=region"
   ]
  },
  {
   "cell_type": "code",
   "execution_count": 13,
   "id": "a8cae4ef",
   "metadata": {},
   "outputs": [
    {
     "data": {
      "text/html": [
       "<div>\n",
       "<style scoped>\n",
       "    .dataframe tbody tr th:only-of-type {\n",
       "        vertical-align: middle;\n",
       "    }\n",
       "\n",
       "    .dataframe tbody tr th {\n",
       "        vertical-align: top;\n",
       "    }\n",
       "\n",
       "    .dataframe thead th {\n",
       "        text-align: right;\n",
       "    }\n",
       "</style>\n",
       "<table border=\"1\" class=\"dataframe\">\n",
       "  <thead>\n",
       "    <tr style=\"text-align: right;\">\n",
       "      <th></th>\n",
       "      <th>Residence_name</th>\n",
       "      <th>Price</th>\n",
       "      <th>Location_details</th>\n",
       "      <th>region</th>\n",
       "    </tr>\n",
       "  </thead>\n",
       "  <tbody>\n",
       "    <tr>\n",
       "      <th>0</th>\n",
       "      <td>Kumar Prospera</td>\n",
       "      <td>₹ 88.28 L - 1.34 Cr</td>\n",
       "      <td>2, 3 BHK Apartment in Hennur Road Bangalore North</td>\n",
       "      <td>Bangalore North</td>\n",
       "    </tr>\n",
       "    <tr>\n",
       "      <th>1</th>\n",
       "      <td>Vaishnavi Serene</td>\n",
       "      <td>₹ 45.57 - 79.04 L</td>\n",
       "      <td>1, 2, 3 BHK Apartment in Yelahanka Bangalore N...</td>\n",
       "      <td>Bangalore North</td>\n",
       "    </tr>\n",
       "    <tr>\n",
       "      <th>2</th>\n",
       "      <td>SNN Clermont</td>\n",
       "      <td>₹ 3 - 5.85 Cr</td>\n",
       "      <td>3, 4, 5 BHK Apartment in Hebbal Bangalore North</td>\n",
       "      <td>Bangalore North</td>\n",
       "    </tr>\n",
       "    <tr>\n",
       "      <th>3</th>\n",
       "      <td>Jhanavi Noreste</td>\n",
       "      <td>₹ 53.55 - 63 L</td>\n",
       "      <td>2, 3 BHK Apartment in Sarjapur Road Bangalore ...</td>\n",
       "      <td>Bangalore East</td>\n",
       "    </tr>\n",
       "    <tr>\n",
       "      <th>4</th>\n",
       "      <td>Pariwar Wise Palmsprings</td>\n",
       "      <td>₹ 68 - 91.56 L</td>\n",
       "      <td>2, 3 BHK Apartment in Sarjapur Road Bangalore ...</td>\n",
       "      <td>Bangalore East</td>\n",
       "    </tr>\n",
       "    <tr>\n",
       "      <th>...</th>\n",
       "      <td>...</td>\n",
       "      <td>...</td>\n",
       "      <td>...</td>\n",
       "      <td>...</td>\n",
       "    </tr>\n",
       "    <tr>\n",
       "      <th>120</th>\n",
       "      <td>Vaibhav Nagar</td>\n",
       "      <td>₹ 10.8 - 21.6 L</td>\n",
       "      <td>Land in Jangamakote Bangalore North</td>\n",
       "      <td>Bangalore North</td>\n",
       "    </tr>\n",
       "    <tr>\n",
       "      <th>121</th>\n",
       "      <td>Global Celesta</td>\n",
       "      <td>₹ 35 - 35.93 L</td>\n",
       "      <td>1, 2, 3 BHK Apartment in Chandapura Bangalore ...</td>\n",
       "      <td>Bangalore South</td>\n",
       "    </tr>\n",
       "    <tr>\n",
       "      <th>122</th>\n",
       "      <td>Concorde Spring Meadows</td>\n",
       "      <td>₹ 51.92 L - 7.8 Cr</td>\n",
       "      <td>1, 2, 3 BHK Apartment in Tumkur Road Bangalore...</td>\n",
       "      <td>Bangalore West</td>\n",
       "    </tr>\n",
       "    <tr>\n",
       "      <th>123</th>\n",
       "      <td>Candeur Signature</td>\n",
       "      <td>₹ 47.93 L - 1.24 Cr</td>\n",
       "      <td>1, 2, 3 BHK Apartment in Varthur Bangalore East</td>\n",
       "      <td>Bangalore East</td>\n",
       "    </tr>\n",
       "    <tr>\n",
       "      <th>124</th>\n",
       "      <td>Gopalan Olympia</td>\n",
       "      <td>₹ 59.97 - 89.22 L</td>\n",
       "      <td>2, 3 BHK Apartment in Mysore Road Bangalore West</td>\n",
       "      <td>Bangalore West</td>\n",
       "    </tr>\n",
       "  </tbody>\n",
       "</table>\n",
       "<p>125 rows × 4 columns</p>\n",
       "</div>"
      ],
      "text/plain": [
       "               Residence_name                Price  \\\n",
       "0              Kumar Prospera  ₹ 88.28 L - 1.34 Cr   \n",
       "1            Vaishnavi Serene    ₹ 45.57 - 79.04 L   \n",
       "2                SNN Clermont        ₹ 3 - 5.85 Cr   \n",
       "3             Jhanavi Noreste       ₹ 53.55 - 63 L   \n",
       "4    Pariwar Wise Palmsprings       ₹ 68 - 91.56 L   \n",
       "..                        ...                  ...   \n",
       "120             Vaibhav Nagar      ₹ 10.8 - 21.6 L   \n",
       "121            Global Celesta       ₹ 35 - 35.93 L   \n",
       "122   Concorde Spring Meadows   ₹ 51.92 L - 7.8 Cr   \n",
       "123         Candeur Signature  ₹ 47.93 L - 1.24 Cr   \n",
       "124           Gopalan Olympia    ₹ 59.97 - 89.22 L   \n",
       "\n",
       "                                      Location_details           region  \n",
       "0    2, 3 BHK Apartment in Hennur Road Bangalore North  Bangalore North  \n",
       "1    1, 2, 3 BHK Apartment in Yelahanka Bangalore N...  Bangalore North  \n",
       "2      3, 4, 5 BHK Apartment in Hebbal Bangalore North  Bangalore North  \n",
       "3    2, 3 BHK Apartment in Sarjapur Road Bangalore ...   Bangalore East  \n",
       "4    2, 3 BHK Apartment in Sarjapur Road Bangalore ...   Bangalore East  \n",
       "..                                                 ...              ...  \n",
       "120                Land in Jangamakote Bangalore North  Bangalore North  \n",
       "121  1, 2, 3 BHK Apartment in Chandapura Bangalore ...  Bangalore South  \n",
       "122  1, 2, 3 BHK Apartment in Tumkur Road Bangalore...   Bangalore West  \n",
       "123    1, 2, 3 BHK Apartment in Varthur Bangalore East   Bangalore East  \n",
       "124   2, 3 BHK Apartment in Mysore Road Bangalore West   Bangalore West  \n",
       "\n",
       "[125 rows x 4 columns]"
      ]
     },
     "execution_count": 13,
     "metadata": {},
     "output_type": "execute_result"
    }
   ],
   "source": [
    "df"
   ]
  },
  {
   "cell_type": "code",
   "execution_count": 14,
   "id": "885fb89a",
   "metadata": {},
   "outputs": [],
   "source": [
    "def scorlling_func():\n",
    "    SCROLL_PAUSE_TIME = 4\n",
    "    # Get scroll height\n",
    "    last_height = driver.execute_script(\"return document.body.scrollHeight\")\n",
    "\n",
    "    while True:\n",
    "        # Scroll down to bottom\n",
    "        driver.execute_script(\"window.scrollTo(0, document.body.scrollHeight);\")\n",
    "\n",
    "        # Wait to load page\n",
    "        time.sleep(SCROLL_PAUSE_TIME)\n",
    "\n",
    "        # Calculate new scroll height and compare with last scroll height\n",
    "        new_height = driver.execute_script(\"return document.body.scrollHeight\")\n",
    "        if new_height == last_height:\n",
    "            break\n",
    "        last_height = new_height"
   ]
  }
 ],
 "metadata": {
  "kernelspec": {
   "display_name": "Python 3 (ipykernel)",
   "language": "python",
   "name": "python3"
  },
  "language_info": {
   "codemirror_mode": {
    "name": "ipython",
    "version": 3
   },
   "file_extension": ".py",
   "mimetype": "text/x-python",
   "name": "python",
   "nbconvert_exporter": "python",
   "pygments_lexer": "ipython3",
   "version": "3.9.12"
  }
 },
 "nbformat": 4,
 "nbformat_minor": 5
}
